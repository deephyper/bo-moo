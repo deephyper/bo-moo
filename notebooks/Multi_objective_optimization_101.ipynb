{
 "cells": [
  {
   "cell_type": "markdown",
   "metadata": {},
   "source": [
    "# Multi-Objective Optimization - 101\n",
    "\n",
    "[![Open In Colab](https://colab.research.google.com/assets/colab-badge.svg)](https://colab.research.google.com/github/deephyper/tutorials/blob/main/tutorials/colab/Multi_objective_optimization_101.ipynb)\n",
    "\n",
    "In this tutorial, we will explore how to run black-box multi-objective optimization (MOO). In this setting, the goal is to resolve the following problem:\n",
    "\n",
    "$$ \\text{max}_x (f_0(x), f_1(x), ..., f_n(x)) $$\n",
    "\n",
    "where $x$ is the set of optimized variables and $f_i$ are the different objectives. In DeepHyper, we use scalarization to transform such multi-objective problem into a single-objective problem:\n",
    "\n",
    "$$ \\text{max}_x s_w((f_0(x), f_1(x), ..., f_n(x))) $$\n",
    "\n",
    "where $w$ is a set of weights which manages the trade-off between objectives and $s_w : \\mathbb{R}^n \\rightarrow \\mathbb{R}$. The weight vector $w$ is randomized and re-sampled for each new batch of suggestion from the optimizer.\n",
    "\n"
   ]
  },
  {
   "cell_type": "code",
   "execution_count": 1,
   "metadata": {},
   "outputs": [
    {
     "name": "stdout",
     "output_type": "stream",
     "text": [
      "0.5.0\n"
     ]
    }
   ],
   "source": [
    "# Installing DeepHyper if not present\n",
    "try:\n",
    "    import deephyper\n",
    "    print(deephyper.__version__)\n",
    "except (ImportError, ModuleNotFoundError):\n",
    "    !pip install deephyper\n",
    "\n",
    "# Installing DeepHyper/Benchmark if not present\n",
    "try:\n",
    "    import deephyper_benchmark as dhb\n",
    "except (ImportError, ModuleNotFoundError):\n",
    "    !pip install -e \"git+https://github.com/deephyper/benchmark.git@main#egg=deephyper-benchmark\""
   ]
  },
  {
   "cell_type": "markdown",
   "metadata": {},
   "source": [
    "We will look at the DTLZ benchmark suite, a classic in multi-objective optimization (MOO) litterature. This benchmark exibit some characteristic cases of MOO. By default, this tutorial is loading the DTLZ-II benchmark which exibit a Pareto-Front with a concave shape."
   ]
  },
  {
   "cell_type": "code",
   "execution_count": 2,
   "metadata": {},
   "outputs": [
    {
     "name": "stderr",
     "output_type": "stream",
     "text": [
      "2023-07-21 15:20:14.345774: I tensorflow/core/platform/cpu_feature_guard.cc:193] This TensorFlow binary is optimized with oneAPI Deep Neural Network Library (oneDNN) to use the following CPU instructions in performance-critical operations:  AVX2 FMA\n",
      "To enable them in other operations, rebuild TensorFlow with the appropriate compiler flags.\n"
     ]
    }
   ],
   "source": [
    "import os\n",
    "\n",
    "n_objectives = 2\n",
    "\n",
    "# Configuration of the DTLZ Benchmark\n",
    "os.environ[\"DEEPHYPER_BENCHMARK_DTLZ_PROB\"] = str(2)\n",
    "os.environ[\"DEEPHYPER_BENCHMARK_NDIMS\"] = str(3)\n",
    "os.environ[\"DEEPHYPER_BENCHMARK_NOBJS\"] = str(n_objectives)\n",
    "os.environ[\"DEEPHYPER_BENCHMARK_DTLZ_OFFSET\"] = str(0.6)\n",
    "os.environ[\"DEEPHYPER_BENCHMARK_FAILURES\"] = str(0)\n",
    "\n",
    "# Loading the DTLZ Benchmark\n",
    "import deephyper_benchmark as dhb; dhb.load(\"DTLZ\");\n",
    "from deephyper_benchmark.lib.dtlz import hpo, metrics"
   ]
  },
  {
   "cell_type": "markdown",
   "metadata": {},
   "source": [
    "We can display the variable search space of the benchmark we just loaded:"
   ]
  },
  {
   "cell_type": "code",
   "execution_count": 3,
   "metadata": {},
   "outputs": [
    {
     "data": {
      "text/plain": [
       "Configuration space object:\n",
       "  Hyperparameters:\n",
       "    x0, Type: UniformFloat, Range: [0.0, 1.0], Default: 0.5\n",
       "    x1, Type: UniformFloat, Range: [0.0, 1.0], Default: 0.5\n",
       "    x2, Type: UniformFloat, Range: [0.0, 1.0], Default: 0.5"
      ]
     },
     "execution_count": 3,
     "metadata": {},
     "output_type": "execute_result"
    }
   ],
   "source": [
    "hpo.problem"
   ]
  },
  {
   "cell_type": "markdown",
   "metadata": {},
   "source": [
    "To define a black-box for multi-objective optimization it is very similar to single-objective optimization at the difference that the `objective` can now be a list of values. A first possibility is:\n",
    "\n",
    "\n",
    "```python\n",
    "def run(job):\n",
    "    ...\n",
    "    return objective_0, objective_1, ..., objective_n\n",
    "```\n",
    "\n",
    "which just returns the objectives to optimize as a tuple. If additionnal metadata are interesting to gather for each evaluation it is also possible to return them by following this format:\n",
    "\n",
    "```python\n",
    "def run(job):\n",
    "    ...\n",
    "    return {\n",
    "        \"objective\": [objective_0, objective_1, ..., objective_n],\n",
    "        \"metadata\": {\n",
    "            \"flops\": ...,\n",
    "            \"memory_footprint\": ...,\n",
    "            \"duration\": ...,\n",
    "        }\n",
    "    }\n",
    "```\n",
    "each of the metadata needs to be JSON serializable and will be returned in the final results with a column name formatted as `m:metadata_key` such as `m:duration`."
   ]
  },
  {
   "cell_type": "markdown",
   "metadata": {},
   "source": [
    "Now we can load Centralized Bayesian Optimization search:"
   ]
  },
  {
   "cell_type": "code",
   "execution_count": 4,
   "metadata": {},
   "outputs": [],
   "source": [
    "from deephyper.search.hps import CBO\n",
    "from deephyper.evaluator import Evaluator\n",
    "from deephyper.evaluator.callback import TqdmCallback"
   ]
  },
  {
   "cell_type": "code",
   "execution_count": 6,
   "metadata": {},
   "outputs": [
    {
     "name": "stderr",
     "output_type": "stream",
     "text": [
      "/Users/tyler/Git/deephyper/deephyper/evaluator/_evaluator.py:127: UserWarning: Applying nest-asyncio patch for IPython Shell!\n",
      "  warnings.warn(\n"
     ]
    },
    {
     "data": {
      "application/vnd.jupyter.widget-view+json": {
       "model_id": "72ca422420814a4b88c7590f477eef19",
       "version_major": 2,
       "version_minor": 0
      },
      "text/plain": [
       "  0%|          | 0/1000 [00:00<?, ?it/s]"
      ]
     },
     "metadata": {},
     "output_type": "display_data"
    }
   ],
   "source": [
    "# Interface to submit/gather parallel evaluations of the black-box function.\n",
    "# The method argument is used to specify the parallelization method, in our case we use threads.\n",
    "# The method_kwargs argument is used to specify the number of workers and the callbacks.\n",
    "# The TqdmCallback is used to display a progress bar during the search.\n",
    "evaluator = Evaluator.create(\n",
    "    hpo.run,\n",
    "    method=\"thread\",\n",
    "    method_kwargs={\"num_workers\": 4, \"callbacks\": [TqdmCallback()]},\n",
    ")\n",
    "\n",
    "# Search algorithm\n",
    "# The acq_func argument is used to specify the acquisition function.\n",
    "# The multi_point_strategy argument is used to specify the multi-point strategy,\n",
    "# in our case we use qUCB instead of the default cl_max (constant-liar) to reduce overheads.\n",
    "# The update_prior argument is used to specify whether the sampling-prior should\n",
    "# be updated during the search.\n",
    "# The update_prior_quantile argument is used to specify the quantile of the lower-bound\n",
    "# used to update the sampling-prior.\n",
    "# The moo_scalarization_strategy argument is used to specify the scalarization strategy.\n",
    "# Chebyshev is capable of generating a diverse set of solutions for non-convex problems.\n",
    "# The moo_scalarization_weight argument is used to specify the weight of the scalarization.\n",
    "# random is used to generate a random weight vector for each iteration.\n",
    "search = CBO(\n",
    "    hpo.problem,\n",
    "    evaluator,\n",
    "    acq_func=\"UCB\",\n",
    "    multi_point_strategy=\"qUCB\",\n",
    "    update_prior=True,\n",
    "    update_prior_quantile=0.25,\n",
    "    moo_lower_bounds=[-0.5, None],\n",
    "    moo_scalarization_strategy=\"Chebyshev\",\n",
    "    moo_scalarization_weight=\"random\",\n",
    "    objective_scaler=\"quantile-uniform\",\n",
    "    verbose=1,\n",
    ")\n",
    "\n",
    "# Launch the search for a given number of evaluations\n",
    "# other stopping criteria can be used (e.g. timeout, early-stopping/convergence)\n",
    "results = search.search(max_evals=1000)"
   ]
  },
  {
   "cell_type": "markdown",
   "metadata": {},
   "source": [
    "A Pandas table of results is returned by the search and also saved at `./results.csv`. An other location can be specified by using `CBO(..., log_dir=...)`."
   ]
  },
  {
   "cell_type": "code",
   "execution_count": 7,
   "metadata": {},
   "outputs": [
    {
     "data": {
      "text/html": [
       "<div>\n",
       "<style scoped>\n",
       "    .dataframe tbody tr th:only-of-type {\n",
       "        vertical-align: middle;\n",
       "    }\n",
       "\n",
       "    .dataframe tbody tr th {\n",
       "        vertical-align: top;\n",
       "    }\n",
       "\n",
       "    .dataframe thead th {\n",
       "        text-align: right;\n",
       "    }\n",
       "</style>\n",
       "<table border=\"1\" class=\"dataframe\">\n",
       "  <thead>\n",
       "    <tr style=\"text-align: right;\">\n",
       "      <th></th>\n",
       "      <th>p:x0</th>\n",
       "      <th>p:x1</th>\n",
       "      <th>p:x2</th>\n",
       "      <th>objective_0</th>\n",
       "      <th>objective_1</th>\n",
       "      <th>job_id</th>\n",
       "      <th>m:timestamp_submit</th>\n",
       "      <th>m:timestamp_gather</th>\n",
       "      <th>m:timestamp_start</th>\n",
       "      <th>m:timestamp_end</th>\n",
       "      <th>pareto_efficient</th>\n",
       "    </tr>\n",
       "  </thead>\n",
       "  <tbody>\n",
       "    <tr>\n",
       "      <th>0</th>\n",
       "      <td>0.803330</td>\n",
       "      <td>0.478756</td>\n",
       "      <td>0.255738</td>\n",
       "      <td>-0.344541</td>\n",
       "      <td>-1.079570</td>\n",
       "      <td>0</td>\n",
       "      <td>0.195520</td>\n",
       "      <td>0.197421</td>\n",
       "      <td>1.689971e+09</td>\n",
       "      <td>1.689971e+09</td>\n",
       "      <td>False</td>\n",
       "    </tr>\n",
       "    <tr>\n",
       "      <th>1</th>\n",
       "      <td>0.621787</td>\n",
       "      <td>0.311213</td>\n",
       "      <td>0.564836</td>\n",
       "      <td>-0.607134</td>\n",
       "      <td>-0.898788</td>\n",
       "      <td>3</td>\n",
       "      <td>0.195617</td>\n",
       "      <td>0.225188</td>\n",
       "      <td>1.689971e+09</td>\n",
       "      <td>1.689971e+09</td>\n",
       "      <td>False</td>\n",
       "    </tr>\n",
       "    <tr>\n",
       "      <th>2</th>\n",
       "      <td>0.692956</td>\n",
       "      <td>0.285571</td>\n",
       "      <td>0.073445</td>\n",
       "      <td>-0.638277</td>\n",
       "      <td>-1.219149</td>\n",
       "      <td>2</td>\n",
       "      <td>0.195592</td>\n",
       "      <td>0.225817</td>\n",
       "      <td>1.689971e+09</td>\n",
       "      <td>1.689971e+09</td>\n",
       "      <td>False</td>\n",
       "    </tr>\n",
       "    <tr>\n",
       "      <th>3</th>\n",
       "      <td>0.631865</td>\n",
       "      <td>0.561962</td>\n",
       "      <td>0.800726</td>\n",
       "      <td>-0.569384</td>\n",
       "      <td>-0.872364</td>\n",
       "      <td>1</td>\n",
       "      <td>0.195562</td>\n",
       "      <td>0.226416</td>\n",
       "      <td>1.689971e+09</td>\n",
       "      <td>1.689971e+09</td>\n",
       "      <td>False</td>\n",
       "    </tr>\n",
       "    <tr>\n",
       "      <th>4</th>\n",
       "      <td>0.439834</td>\n",
       "      <td>0.097888</td>\n",
       "      <td>0.311710</td>\n",
       "      <td>-1.029032</td>\n",
       "      <td>-0.850837</td>\n",
       "      <td>7</td>\n",
       "      <td>0.276708</td>\n",
       "      <td>0.278120</td>\n",
       "      <td>1.689971e+09</td>\n",
       "      <td>1.689971e+09</td>\n",
       "      <td>False</td>\n",
       "    </tr>\n",
       "    <tr>\n",
       "      <th>...</th>\n",
       "      <td>...</td>\n",
       "      <td>...</td>\n",
       "      <td>...</td>\n",
       "      <td>...</td>\n",
       "      <td>...</td>\n",
       "      <td>...</td>\n",
       "      <td>...</td>\n",
       "      <td>...</td>\n",
       "      <td>...</td>\n",
       "      <td>...</td>\n",
       "      <td>...</td>\n",
       "    </tr>\n",
       "    <tr>\n",
       "      <th>995</th>\n",
       "      <td>0.691516</td>\n",
       "      <td>0.538704</td>\n",
       "      <td>0.474111</td>\n",
       "      <td>-0.474957</td>\n",
       "      <td>-0.902226</td>\n",
       "      <td>994</td>\n",
       "      <td>137.786180</td>\n",
       "      <td>137.788268</td>\n",
       "      <td>1.689971e+09</td>\n",
       "      <td>1.689971e+09</td>\n",
       "      <td>False</td>\n",
       "    </tr>\n",
       "    <tr>\n",
       "      <th>996</th>\n",
       "      <td>0.688751</td>\n",
       "      <td>0.770774</td>\n",
       "      <td>0.536095</td>\n",
       "      <td>-0.485279</td>\n",
       "      <td>-0.912198</td>\n",
       "      <td>997</td>\n",
       "      <td>138.465000</td>\n",
       "      <td>138.465962</td>\n",
       "      <td>1.689971e+09</td>\n",
       "      <td>1.689971e+09</td>\n",
       "      <td>False</td>\n",
       "    </tr>\n",
       "    <tr>\n",
       "      <th>997</th>\n",
       "      <td>0.683875</td>\n",
       "      <td>0.604270</td>\n",
       "      <td>0.615239</td>\n",
       "      <td>-0.476530</td>\n",
       "      <td>-0.879443</td>\n",
       "      <td>998</td>\n",
       "      <td>138.465018</td>\n",
       "      <td>138.466569</td>\n",
       "      <td>1.689971e+09</td>\n",
       "      <td>1.689971e+09</td>\n",
       "      <td>False</td>\n",
       "    </tr>\n",
       "    <tr>\n",
       "      <th>998</th>\n",
       "      <td>0.683875</td>\n",
       "      <td>0.604270</td>\n",
       "      <td>0.615239</td>\n",
       "      <td>-0.476530</td>\n",
       "      <td>-0.879443</td>\n",
       "      <td>999</td>\n",
       "      <td>138.465033</td>\n",
       "      <td>138.466892</td>\n",
       "      <td>1.689971e+09</td>\n",
       "      <td>1.689971e+09</td>\n",
       "      <td>False</td>\n",
       "    </tr>\n",
       "    <tr>\n",
       "      <th>999</th>\n",
       "      <td>0.683974</td>\n",
       "      <td>0.648212</td>\n",
       "      <td>0.587246</td>\n",
       "      <td>-0.477459</td>\n",
       "      <td>-0.881484</td>\n",
       "      <td>996</td>\n",
       "      <td>138.464972</td>\n",
       "      <td>138.467209</td>\n",
       "      <td>1.689971e+09</td>\n",
       "      <td>1.689971e+09</td>\n",
       "      <td>False</td>\n",
       "    </tr>\n",
       "  </tbody>\n",
       "</table>\n",
       "<p>1000 rows × 11 columns</p>\n",
       "</div>"
      ],
      "text/plain": [
       "         p:x0      p:x1      p:x2  objective_0  objective_1  job_id  \\\n",
       "0    0.803330  0.478756  0.255738    -0.344541    -1.079570       0   \n",
       "1    0.621787  0.311213  0.564836    -0.607134    -0.898788       3   \n",
       "2    0.692956  0.285571  0.073445    -0.638277    -1.219149       2   \n",
       "3    0.631865  0.561962  0.800726    -0.569384    -0.872364       1   \n",
       "4    0.439834  0.097888  0.311710    -1.029032    -0.850837       7   \n",
       "..        ...       ...       ...          ...          ...     ...   \n",
       "995  0.691516  0.538704  0.474111    -0.474957    -0.902226     994   \n",
       "996  0.688751  0.770774  0.536095    -0.485279    -0.912198     997   \n",
       "997  0.683875  0.604270  0.615239    -0.476530    -0.879443     998   \n",
       "998  0.683875  0.604270  0.615239    -0.476530    -0.879443     999   \n",
       "999  0.683974  0.648212  0.587246    -0.477459    -0.881484     996   \n",
       "\n",
       "     m:timestamp_submit  m:timestamp_gather  m:timestamp_start  \\\n",
       "0              0.195520            0.197421       1.689971e+09   \n",
       "1              0.195617            0.225188       1.689971e+09   \n",
       "2              0.195592            0.225817       1.689971e+09   \n",
       "3              0.195562            0.226416       1.689971e+09   \n",
       "4              0.276708            0.278120       1.689971e+09   \n",
       "..                  ...                 ...                ...   \n",
       "995          137.786180          137.788268       1.689971e+09   \n",
       "996          138.465000          138.465962       1.689971e+09   \n",
       "997          138.465018          138.466569       1.689971e+09   \n",
       "998          138.465033          138.466892       1.689971e+09   \n",
       "999          138.464972          138.467209       1.689971e+09   \n",
       "\n",
       "     m:timestamp_end  pareto_efficient  \n",
       "0       1.689971e+09             False  \n",
       "1       1.689971e+09             False  \n",
       "2       1.689971e+09             False  \n",
       "3       1.689971e+09             False  \n",
       "4       1.689971e+09             False  \n",
       "..               ...               ...  \n",
       "995     1.689971e+09             False  \n",
       "996     1.689971e+09             False  \n",
       "997     1.689971e+09             False  \n",
       "998     1.689971e+09             False  \n",
       "999     1.689971e+09             False  \n",
       "\n",
       "[1000 rows x 11 columns]"
      ]
     },
     "execution_count": 7,
     "metadata": {},
     "output_type": "execute_result"
    }
   ],
   "source": [
    "results"
   ]
  },
  {
   "cell_type": "markdown",
   "metadata": {},
   "source": [
    "In this table we retrieve:\n",
    "\n",
    "- columns starting by `p:` which are the optimized variables.\n",
    "- the `objective_{i}` are the objectives returned by the black-box function.\n",
    "- the `job_id` is the identifier of the executed evaluations.\n",
    "- columns starting by `m:` are metadata returned by the black-box function.\n",
    "- `pareto_efficient` is a column only returned for MOO which specify if the evaluation is part of the set of optimal solutions.\n",
    "\n",
    "Let us use this table to visualized evaluated objectives:"
   ]
  },
  {
   "cell_type": "code",
   "execution_count": 8,
   "metadata": {},
   "outputs": [
    {
     "data": {
      "image/png": "[encoded data removed]",
      "text/plain": [
       "<Figure size 640x480 with 2 Axes>"
      ]
     },
     "metadata": {},
     "output_type": "display_data"
    }
   ],
   "source": [
    "import matplotlib.pyplot as plt\n",
    "\n",
    "results = results[results[\"objective_0\"] != \"F\"]\n",
    "results[\"objective_0\"] = results[\"objective_0\"].astype(float)\n",
    "results[\"objective_1\"] = results[\"objective_1\"].astype(float)\n",
    "\n",
    "plt.figure()\n",
    "plt.scatter(\n",
    "    results[~results[\"pareto_efficient\"]][\"objective_0\"],\n",
    "    results[~results[\"pareto_efficient\"]][\"objective_1\"],\n",
    "    marker=\"o\",\n",
    "    # color=\"blue\",\n",
    "    c=results[~results[\"pareto_efficient\"]][\"job_id\"],\n",
    "    alpha=0.7,\n",
    "    label=\"Non Pareto-Efficient\",\n",
    ")\n",
    "plt.plot(\n",
    "    results[results[\"pareto_efficient\"]][\"objective_0\"],\n",
    "    results[results[\"pareto_efficient\"]][\"objective_1\"],\n",
    "    \"o\",\n",
    "    color=\"red\",\n",
    "    alpha=0.7,\n",
    "    label=\"Pareto-Efficient\",\n",
    ")\n",
    "plt.colorbar()\n",
    "plt.grid()\n",
    "plt.legend()\n",
    "plt.xlabel(\"Objective 0\")\n",
    "plt.ylabel(\"Objective 1\")\n",
    "plt.show()"
   ]
  },
  {
   "cell_type": "code",
   "execution_count": 9,
   "metadata": {},
   "outputs": [
    {
     "data": {
      "image/png": "[encoded data removed]",
      "text/plain": [
       "<Figure size 640x480 with 2 Axes>"
      ]
     },
     "metadata": {},
     "output_type": "display_data"
    }
   ],
   "source": [
    "plt.figure()\n",
    "plt.subplot(1, 2, 1)\n",
    "plt.hist(results[\"objective_0\"], bins=10)\n",
    "plt.subplot(1, 2, 2)\n",
    "plt.hist(results[\"objective_1\"], bins=10)\n",
    "plt.show()"
   ]
  },
  {
   "cell_type": "code",
   "execution_count": null,
   "metadata": {},
   "outputs": [],
   "source": []
  }
 ],
 "metadata": {
  "kernelspec": {
   "display_name": "Python 3 (ipykernel)",
   "language": "python",
   "name": "python3"
  },
  "language_info": {
   "codemirror_mode": {
    "name": "ipython",
    "version": 3
   },
   "file_extension": ".py",
   "mimetype": "text/x-python",
   "name": "python",
   "nbconvert_exporter": "python",
   "pygments_lexer": "ipython3",
   "version": "3.10.8"
  }
 },
 "nbformat": 4,
 "nbformat_minor": 2
}
