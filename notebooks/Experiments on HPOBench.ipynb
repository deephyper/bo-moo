{
 "cells": [
  {
   "cell_type": "code",
   "execution_count": 1,
   "metadata": {},
   "outputs": [],
   "source": [
    "import os\n",
    "import itertools\n",
    "import matplotlib as mpl\n",
    "\n",
    "\n",
    "def set_size(width, fraction=1):\n",
    "    \"\"\"Set figure dimensions to avoid scaling in LaTeX.\n",
    "\n",
    "    From: https://jwalton.info/Embed-Publication-Matplotlib-Latex/\n",
    "\n",
    "    Parameters\n",
    "    ----------\n",
    "    width: float\n",
    "            Document textwidth or columnwidth in pts\n",
    "    fraction: float, optional\n",
    "            Fraction of the width which you wish the figure to occupy\n",
    "\n",
    "    Returns\n",
    "    -------\n",
    "    fig_dim: tuple\n",
    "            Dimensions of figure in inches\n",
    "    \"\"\"\n",
    "    # Width of figure (in pts)\n",
    "    fig_width_pt = width * fraction\n",
    "\n",
    "    # Convert from pt to inches\n",
    "    inches_per_pt = 1 / 72.27\n",
    "\n",
    "    # Golden ratio to set aesthetic figure height\n",
    "    # https://disq.us/p/2940ij3\n",
    "    golden_ratio = (5**0.5 - 1) / 2\n",
    "\n",
    "    # Figure width in inches\n",
    "    fig_width_in = fig_width_pt * inches_per_pt\n",
    "    # Figure height in inches\n",
    "    fig_height_in = fig_width_in * golden_ratio\n",
    "\n",
    "    fig_dim = (fig_width_in, fig_height_in)\n",
    "\n",
    "    return fig_dim\n",
    "\n",
    "\n",
    "width, height = set_size(252, fraction=1.0)\n",
    "widht = 2 * width\n",
    "\n",
    "# width = 5\n",
    "# height = width/1.618\n",
    "fontsize = 9\n",
    "\n",
    "mpl.rcParams.update(\n",
    "    {\n",
    "        \"font.size\": fontsize,\n",
    "        \"figure.figsize\": (width, height),\n",
    "        \"figure.facecolor\": \"white\",\n",
    "        \"savefig.dpi\": 360,\n",
    "        \"figure.subplot.bottom\": 0.125,\n",
    "        \"figure.edgecolor\": \"white\",\n",
    "        \"xtick.labelsize\": fontsize,\n",
    "        \"ytick.labelsize\": fontsize,\n",
    "    }\n",
    ")\n",
    "\n",
    "import matplotlib.pyplot as plt\n",
    "\n",
    "import numpy as np\n",
    "import pandas as pd\n",
    "\n",
    "from deephyper.skopt.moo import pareto_front, non_dominated_set, hypervolume\n",
    "from deephyper.skopt.utils import cook_objective_scaler\n",
    "from deephyper.search.hps import CBO\n",
    "\n",
    "from deephyper.search.hps._mpi_doptuna import MPIDistributedOptuna"
   ]
  },
  {
   "cell_type": "code",
   "execution_count": 2,
   "metadata": {},
   "outputs": [],
   "source": [
    "# task_name = \"navalpropulsion\"\n",
    "# task_name = \"parkinsonstelemonitoring\"\n",
    "# task_name = \"proteinstructure\"\n",
    "task_name = \"slicelocalization\"\n",
    "os.environ[\"DEEPHYPER_BENCHMARK_TASK\"] = task_name\n",
    "os.environ[\"DEEPHYPER_BENCHMARK_MOO\"] = \"1\"\n",
    "\n",
    "objective_columns = [\"objective_0\", \"objective_1\"]\n",
    "\n",
    "repetitions = 10\n",
    "\n",
    "max_evals = 200"
   ]
  },
  {
   "cell_type": "code",
   "execution_count": 3,
   "metadata": {},
   "outputs": [
    {
     "name": "stdout",
     "output_type": "stream",
     "text": [
      "hpo.DEEPHYPER_BENCHMARK_TASK='slicelocalization'\n",
      "hpo.DEEPHYPER_BENCHMARK_MOO=True\n"
     ]
    },
    {
     "data": {
      "text/plain": [
       "Configuration space object:\n",
       "  Hyperparameters:\n",
       "    activation_fn_1, Type: Categorical, Choices: {tanh, relu}, Default: tanh\n",
       "    activation_fn_2, Type: Categorical, Choices: {tanh, relu}, Default: tanh\n",
       "    batch_size, Type: Ordinal, Sequence: {8, 16, 32, 64}, Default: 8\n",
       "    dropout_1, Type: Ordinal, Sequence: {0.0, 0.3, 0.6}, Default: 0.0\n",
       "    dropout_2, Type: Ordinal, Sequence: {0.0, 0.3, 0.6}, Default: 0.0\n",
       "    init_lr, Type: Ordinal, Sequence: {0.0005, 0.001, 0.005, 0.01, 0.05, 0.1}, Default: 0.0005\n",
       "    lr_schedule, Type: Categorical, Choices: {cosine, const}, Default: cosine\n",
       "    n_units_1, Type: Ordinal, Sequence: {16, 32, 64, 128, 256, 512}, Default: 16\n",
       "    n_units_2, Type: Ordinal, Sequence: {16, 32, 64, 128, 256, 512}, Default: 16"
      ]
     },
     "execution_count": 3,
     "metadata": {},
     "output_type": "execute_result"
    }
   ],
   "source": [
    "import deephyper_benchmark as dhb\n",
    "\n",
    "dhb.load(\"HPOBench/tabular\")\n",
    "from deephyper_benchmark.lib.hpobench.tabular import hpo\n",
    "\n",
    "print(f\"{hpo.DEEPHYPER_BENCHMARK_TASK=}\")\n",
    "print(f\"{hpo.DEEPHYPER_BENCHMARK_MOO=}\")\n",
    "\n",
    "hpo.problem"
   ]
  },
  {
   "cell_type": "code",
   "execution_count": 4,
   "metadata": {},
   "outputs": [
    {
     "name": "stdout",
     "output_type": "stream",
     "text": [
      "Starting round 0...\n",
      "Bayesian optimization...\n"
     ]
    },
    {
     "name": "stderr",
     "output_type": "stream",
     "text": [
      "/Users/romainegele/Documents/Argonne/deephyper/deephyper/evaluator/_evaluator.py:127: UserWarning: Applying nest-asyncio patch for IPython Shell!\n",
      "  warnings.warn(\n"
     ]
    },
    {
     "data": {
      "application/vnd.jupyter.widget-view+json": {
       "model_id": "12ec180bbb0a4a8fbf8d09c8d6a3f326",
       "version_major": 2,
       "version_minor": 0
      },
      "text/plain": [
       "  0%|          | 0/200 [00:00<?, ?it/s]"
      ]
     },
     "metadata": {},
     "output_type": "display_data"
    },
    {
     "name": "stdout",
     "output_type": "stream",
     "text": [
      "Starting round 1...\n",
      "Bayesian optimization...\n"
     ]
    },
    {
     "data": {
      "application/vnd.jupyter.widget-view+json": {
       "model_id": "89f8e6c03cbc4193b4fc968268862a17",
       "version_major": 2,
       "version_minor": 0
      },
      "text/plain": [
       "  0%|          | 0/200 [00:00<?, ?it/s]"
      ]
     },
     "metadata": {},
     "output_type": "display_data"
    },
    {
     "name": "stdout",
     "output_type": "stream",
     "text": [
      "Starting round 2...\n",
      "Bayesian optimization...\n"
     ]
    },
    {
     "data": {
      "application/vnd.jupyter.widget-view+json": {
       "model_id": "49404490027a44bfa024f03a10865d0d",
       "version_major": 2,
       "version_minor": 0
      },
      "text/plain": [
       "  0%|          | 0/200 [00:00<?, ?it/s]"
      ]
     },
     "metadata": {},
     "output_type": "display_data"
    },
    {
     "name": "stdout",
     "output_type": "stream",
     "text": [
      "Starting round 3...\n",
      "Bayesian optimization...\n"
     ]
    },
    {
     "data": {
      "application/vnd.jupyter.widget-view+json": {
       "model_id": "e0d397c63fd74452ad91eef738f6b7da",
       "version_major": 2,
       "version_minor": 0
      },
      "text/plain": [
       "  0%|          | 0/200 [00:00<?, ?it/s]"
      ]
     },
     "metadata": {},
     "output_type": "display_data"
    },
    {
     "name": "stdout",
     "output_type": "stream",
     "text": [
      "Starting round 4...\n",
      "Bayesian optimization...\n"
     ]
    },
    {
     "data": {
      "application/vnd.jupyter.widget-view+json": {
       "model_id": "0f4231bb1920436a841de0d6a6ffd300",
       "version_major": 2,
       "version_minor": 0
      },
      "text/plain": [
       "  0%|          | 0/200 [00:00<?, ?it/s]"
      ]
     },
     "metadata": {},
     "output_type": "display_data"
    },
    {
     "name": "stdout",
     "output_type": "stream",
     "text": [
      "Starting round 5...\n",
      "Bayesian optimization...\n"
     ]
    },
    {
     "data": {
      "application/vnd.jupyter.widget-view+json": {
       "model_id": "8d016d2203434a55933355ce8e27779d",
       "version_major": 2,
       "version_minor": 0
      },
      "text/plain": [
       "  0%|          | 0/200 [00:00<?, ?it/s]"
      ]
     },
     "metadata": {},
     "output_type": "display_data"
    },
    {
     "name": "stdout",
     "output_type": "stream",
     "text": [
      "Starting round 6...\n",
      "Bayesian optimization...\n"
     ]
    },
    {
     "data": {
      "application/vnd.jupyter.widget-view+json": {
       "model_id": "8d3f3341ba5046de94079f6990a9d4b4",
       "version_major": 2,
       "version_minor": 0
      },
      "text/plain": [
       "  0%|          | 0/200 [00:00<?, ?it/s]"
      ]
     },
     "metadata": {},
     "output_type": "display_data"
    },
    {
     "name": "stdout",
     "output_type": "stream",
     "text": [
      "Starting round 7...\n",
      "Bayesian optimization...\n"
     ]
    },
    {
     "data": {
      "application/vnd.jupyter.widget-view+json": {
       "model_id": "4caebf29d5b34dacbdf47dbb7606979d",
       "version_major": 2,
       "version_minor": 0
      },
      "text/plain": [
       "  0%|          | 0/200 [00:00<?, ?it/s]"
      ]
     },
     "metadata": {},
     "output_type": "display_data"
    },
    {
     "name": "stdout",
     "output_type": "stream",
     "text": [
      "Starting round 8...\n",
      "Bayesian optimization...\n"
     ]
    },
    {
     "data": {
      "application/vnd.jupyter.widget-view+json": {
       "model_id": "729ce9816b3e4ada924b5e90e7d99aff",
       "version_major": 2,
       "version_minor": 0
      },
      "text/plain": [
       "  0%|          | 0/200 [00:00<?, ?it/s]"
      ]
     },
     "metadata": {},
     "output_type": "display_data"
    },
    {
     "name": "stdout",
     "output_type": "stream",
     "text": [
      "Starting round 9...\n",
      "Bayesian optimization...\n"
     ]
    },
    {
     "data": {
      "application/vnd.jupyter.widget-view+json": {
       "model_id": "9e1c7399ab734ec68b27f8bd5063a547",
       "version_major": 2,
       "version_minor": 0
      },
      "text/plain": [
       "  0%|          | 0/200 [00:00<?, ?it/s]"
      ]
     },
     "metadata": {},
     "output_type": "display_data"
    }
   ],
   "source": [
    "scalers = [\"identity\", \"minmaxlog\", \"log\", \"quantile-uniform\", \"minmax\"]\n",
    "strategies = [\"Linear\", \"Chebyshev\", \"PBI\"]\n",
    "\n",
    "for i in range(repetitions):\n",
    "    print(f\"Starting round {i}...\")\n",
    "\n",
    "    # # Random\n",
    "    # print(\"Random search...\")\n",
    "    # results = CBO(\n",
    "    #     hpo.problem,\n",
    "    #     hpo.run,\n",
    "    #     surrogate_model=\"DUMMY\",\n",
    "    #     objective_scaler=\"identity\",\n",
    "    #     moo_scalarization_strategy=\"Linear\",\n",
    "    #     log_dir=f\"output/hpobench/{task_name}/{i}/random\",\n",
    "    #     verbose=1,\n",
    "    # ).search(max_evals=max_evals)\n",
    "\n",
    "    # # BO\n",
    "    # print(\"Bayesian optimization...\")\n",
    "    # for scaler, strategy in itertools.product(scalers, strategies):\n",
    "    #     result = CBO(\n",
    "    #         hpo.problem,\n",
    "    #         hpo.run,\n",
    "    #         surrogate_model=\"RF\",\n",
    "    #         objective_scaler=scaler,\n",
    "    #         moo_scalarization_strategy=strategy,\n",
    "    #         log_dir=f\"output/hpobench/{task_name}/{i}/d-{strategy.lower()}-{scaler}\",\n",
    "    #         verbose=1,\n",
    "    #     ).search(max_evals=max_evals)\n",
    "\n",
    "    # NSGAII\n",
    "    # print(\"NSGAII...\")\n",
    "    # result = MPIDistributedOptuna(\n",
    "    #     hpo.problem,\n",
    "    #     hpo.run,\n",
    "    #     sampler=\"NSGAII\",\n",
    "    #     n_objectives=2,\n",
    "    #     log_dir=f\"output/hpobench/{task_name}/{i}/nsgaii\",\n",
    "    #     verbose=1,\n",
    "    # ).search(max_evals=max_evals)\n",
    "\n",
    "    # MoTPE\n",
    "    # print(\"MoTPE...\")\n",
    "    # result = MPIDistributedOptuna(\n",
    "    #     hpo.problem,\n",
    "    #     hpo.run,\n",
    "    #     sampler=\"TPE\",\n",
    "    #     n_objectives=2,\n",
    "    #     log_dir=f\"output/hpobench/{task_name}/{i}/tpe\",\n",
    "    #     verbose=0,\n",
    "    # ).search(max_evals=max_evals)\n",
    "\n",
    "    print(\"Bayesian optimization...\")\n",
    "    result = CBO(\n",
    "        hpo.problem,\n",
    "        hpo.run,\n",
    "        surrogate_model=\"RF\",\n",
    "        objective_scaler=\"quantile-uniform\",\n",
    "        moo_scalarization_strategy=\"Chebyshev\",\n",
    "        log_dir=f\"output/hpobench/{task_name}/{i}/dirichlet\",\n",
    "        verbose=1,\n",
    "    ).search(max_evals=max_evals)"
   ]
  },
  {
   "cell_type": "code",
   "execution_count": null,
   "metadata": {},
   "outputs": [],
   "source": []
  }
 ],
 "metadata": {
  "kernelspec": {
   "display_name": "dh-arm",
   "language": "python",
   "name": "python3"
  },
  "language_info": {
   "codemirror_mode": {
    "name": "ipython",
    "version": 3
   },
   "file_extension": ".py",
   "mimetype": "text/x-python",
   "name": "python",
   "nbconvert_exporter": "python",
   "pygments_lexer": "ipython3",
   "version": "3.11.4"
  },
  "orig_nbformat": 4
 },
 "nbformat": 4,
 "nbformat_minor": 2
}
