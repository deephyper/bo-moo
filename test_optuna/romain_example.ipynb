{
 "cells": [
  {
   "cell_type": "code",
   "execution_count": 1,
   "id": "6825fef2-9110-4795-8fb4-fc38e92b8b71",
   "metadata": {},
   "outputs": [],
   "source": [
    "import deephyper_benchmark as dhb\n",
    "\n",
    "\n",
    "dhb.load(\"DTLZ\")\n",
    "from deephyper_benchmark.lib.dtlz import hpo, metrics"
   ]
  },
  {
   "cell_type": "code",
   "execution_count": 2,
   "id": "0c392e40-920f-45dc-8598-c65af7eac4aa",
   "metadata": {},
   "outputs": [],
   "source": [
    "from deephyper.search.hps import CBO\n",
    "from deephyper.search.hps._mpi_doptuna import MPIDistributedOptuna"
   ]
  },
  {
   "cell_type": "code",
   "execution_count": 3,
   "id": "b2e19311-538a-452c-8a72-12e6aae6ce1f",
   "metadata": {},
   "outputs": [
    {
     "data": {
      "text/plain": [
       "Configuration space object:\n",
       "  Hyperparameters:\n",
       "    x0, Type: UniformFloat, Range: [0.0, 1.0], Default: 0.5\n",
       "    x1, Type: UniformFloat, Range: [0.0, 1.0], Default: 0.5\n",
       "    x2, Type: UniformFloat, Range: [0.0, 1.0], Default: 0.5\n",
       "    x3, Type: UniformFloat, Range: [0.0, 1.0], Default: 0.5\n",
       "    x4, Type: UniformFloat, Range: [0.0, 1.0], Default: 0.5"
      ]
     },
     "execution_count": 3,
     "metadata": {},
     "output_type": "execute_result"
    }
   ],
   "source": [
    "hpo.problem"
   ]
  },
  {
   "cell_type": "code",
   "execution_count": 4,
   "id": "03172b8d-0175-4394-a3f2-f39488d3b4a9",
   "metadata": {},
   "outputs": [],
   "source": [
    "num_rep = 10\n",
    "max_evals = 1_000"
   ]
  },
  {
   "cell_type": "markdown",
   "id": "62901dda-83d2-40ea-9742-97baf815bd15",
   "metadata": {},
   "source": [
    "## Random Search (With DeepHyper)"
   ]
  },
  {
   "cell_type": "code",
   "execution_count": 5,
   "id": "0b33ad3f-0092-4a95-b8f3-0feb28d24ad2",
   "metadata": {},
   "outputs": [
    {
     "name": "stdout",
     "output_type": "stream",
     "text": [
      "0\n"
     ]
    },
    {
     "name": "stderr",
     "output_type": "stream",
     "text": [
      "/Users/romainegele/Documents/Argonne/deephyper/deephyper/evaluator/_evaluator.py:126: UserWarning: Applying nest-asyncio patch for IPython Shell!\n",
      "  warnings.warn(\n"
     ]
    },
    {
     "name": "stdout",
     "output_type": "stream",
     "text": [
      "1\n",
      "2\n",
      "3\n",
      "4\n",
      "5\n",
      "6\n",
      "7\n",
      "8\n",
      "9\n"
     ]
    }
   ],
   "source": [
    "results_random = []\n",
    "for i in range(num_rep):\n",
    "    print(i)\n",
    "    # res = CBO(hpo.problem, hpo.run, surrogate_model=\"DUMMY\").search(max_evals=max_evals)\n",
    "    res = MPIDistributedOptuna(hpo.problem, hpo.run, sampler=\"DUMMY\", n_objectives=2).search(max_evals=max_evals)\n",
    "    results_random.append(res)"
   ]
  },
  {
   "cell_type": "code",
   "execution_count": 6,
   "id": "598896b4-051f-453a-92c2-69d32f56ef1d",
   "metadata": {},
   "outputs": [],
   "source": [
    "pe = metrics.PerformanceEvaluator()\n",
    "\n",
    "hv_array_random = []\n",
    "for res in results_random:\n",
    "    sol = res[[\"objective_0\", \"objective_1\"]].values\n",
    "    hv = []\n",
    "    for i in range(len(sol)):\n",
    "        hv.append(pe.hypervolume(sol[:i+1]))\n",
    "    hv_array_random.append(hv)"
   ]
  },
  {
   "cell_type": "markdown",
   "id": "f5fddd5c-667d-4df8-9116-a51f3e6f6bb4",
   "metadata": {},
   "source": [
    "## DeepHyper Sequential"
   ]
  },
  {
   "cell_type": "code",
   "execution_count": null,
   "id": "f8b3a827-28f8-4951-9e40-87b91e59bdc1",
   "metadata": {},
   "outputs": [
    {
     "name": "stdout",
     "output_type": "stream",
     "text": [
      "0\n",
      "1\n"
     ]
    }
   ],
   "source": [
    "from deephyper.search.hps import CBO\n",
    "\n",
    "\n",
    "results_baseline = []\n",
    "for i in range(num_rep):\n",
    "    print(i)\n",
    "    res = CBO(hpo.problem, hpo.run, objective_scaler=\"minmaxlog\", update_prior=True, update_prior_quantile=0.25).search(max_evals=max_evals)\n",
    "    results_baseline.append(res)"
   ]
  },
  {
   "cell_type": "code",
   "execution_count": null,
   "id": "d0d73220-2793-4a84-931d-26bb989a2733",
   "metadata": {},
   "outputs": [],
   "source": [
    "pe = metrics.PerformanceEvaluator()\n",
    "\n",
    "hv_array_deephyper = []\n",
    "for res in results_baseline:\n",
    "    sol = res[[\"objective_0\", \"objective_1\"]].values\n",
    "    hv = []\n",
    "    for i in range(len(sol)):\n",
    "        hv.append(pe.hypervolume(sol[:i+1]))\n",
    "    hv_array_deephyper.append(hv)"
   ]
  },
  {
   "cell_type": "markdown",
   "id": "9ac2684c-eee8-49d8-ab68-f0f09cee6792",
   "metadata": {},
   "source": [
    "## Optuna (NSGAII)"
   ]
  },
  {
   "cell_type": "code",
   "execution_count": 7,
   "id": "45b45168-f36a-4955-9c80-ee1d8ddd8946",
   "metadata": {},
   "outputs": [
    {
     "name": "stdout",
     "output_type": "stream",
     "text": [
      "0\n",
      "1\n",
      "2\n",
      "3\n",
      "4\n",
      "5\n",
      "6\n",
      "7\n",
      "8\n",
      "9\n"
     ]
    }
   ],
   "source": [
    "from deephyper.search.hps._mpi_doptuna import MPIDistributedOptuna\n",
    "\n",
    "\n",
    "results_nsgaii = []\n",
    "for i in range(num_rep):\n",
    "    print(i)\n",
    "    res = MPIDistributedOptu na(hpo.problem, hpo.run, sampler=\"NSGAII\", n_objectives=2).search(max_evals=max_evals)\n",
    "    results_nsgaii.append(res)"
   ]
  },
  {
   "cell_type": "code",
   "execution_count": 8,
   "id": "75837427-05df-41f6-ab9f-5b74773077db",
   "metadata": {},
   "outputs": [],
   "source": [
    "pe = metrics.PerformanceEvaluator()\n",
    "\n",
    "hv_array_nsgaii = []\n",
    "for res in results_nsgaii:\n",
    "    sol = res[[\"objective_0\", \"objective_1\"]].values\n",
    "    hv = []\n",
    "    for i in range(len(sol)):\n",
    "        hv.append(pe.hypervolume(sol[:i+1]))\n",
    "    hv_array_nsgaii.append(hv)"
   ]
  },
  {
   "cell_type": "markdown",
   "id": "65d505e9-c732-4940-8714-6df47a6db8eb",
   "metadata": {},
   "source": [
    "## Optuna (TPE)"
   ]
  },
  {
   "cell_type": "code",
   "execution_count": 9,
   "id": "0cef9381-9f9f-4185-8b10-efcdbd435f51",
   "metadata": {},
   "outputs": [
    {
     "name": "stdout",
     "output_type": "stream",
     "text": [
      "0\n",
      "1\n",
      "2\n",
      "3\n",
      "4\n",
      "5\n",
      "6\n",
      "7\n",
      "8\n",
      "9\n"
     ]
    }
   ],
   "source": [
    "results_motpe = []\n",
    "for i in range(num_rep):\n",
    "    print(i)\n",
    "    res = MPIDistributedOptuna(hpo.problem, hpo.run, sampler=\"TPE\", n_objectives=2).search(max_evals=max_evals)\n",
    "    results_motpe.append(res)"
   ]
  },
  {
   "cell_type": "code",
   "execution_count": 10,
   "id": "df3030a2-3edb-4f15-9f2e-1e7d1ea36685",
   "metadata": {},
   "outputs": [],
   "source": [
    "pe = metrics.PerformanceEvaluator()\n",
    "\n",
    "hv_array_tpe = []\n",
    "for res in results_motpe:\n",
    "    sol = res[[\"objective_0\", \"objective_1\"]].values\n",
    "    hv = []\n",
    "    for i in range(len(sol)):\n",
    "        hv.append(pe.hypervolume(sol[:i+1]))\n",
    "    hv_array_tpe.append(hv)"
   ]
  },
  {
   "cell_type": "markdown",
   "id": "14efbcc4-57d7-4b88-ae44-214e53fc70f7",
   "metadata": {},
   "source": [
    "## Figures"
   ]
  },
  {
   "cell_type": "code",
   "execution_count": 13,
   "id": "b394182f-195f-4b18-8128-75fbc480d175",
   "metadata": {
    "jupyter": {
     "source_hidden": true
    }
   },
   "outputs": [
    {
     "name": "stdout",
     "output_type": "stream",
     "text": [
      "width=3.4869240348692405, height=2.1550375697381146\n"
     ]
    }
   ],
   "source": [
    "import matplotlib.pyplot as plt\n",
    "import numpy as np\n",
    "\n",
    "\n",
    "def set_size(width, fraction=1):\n",
    "    \"\"\"Set figure dimensions to avoid scaling in LaTeX.\n",
    "    \n",
    "    From: https://jwalton.info/Embed-Publication-Matplotlib-Latex/\n",
    "    \n",
    "    Parameters\n",
    "    ----------\n",
    "    width: float\n",
    "            Document textwidth or columnwidth in pts\n",
    "    fraction: float, optional\n",
    "            Fraction of the width which you wish the figure to occupy\n",
    "\n",
    "    Returns\n",
    "    -------\n",
    "    fig_dim: tuple\n",
    "            Dimensions of figure in inches\n",
    "    \"\"\"\n",
    "    # Width of figure (in pts)\n",
    "    fig_width_pt = width * fraction\n",
    "\n",
    "    # Convert from pt to inches\n",
    "    inches_per_pt = 1 / 72.27\n",
    "\n",
    "    # Golden ratio to set aesthetic figure height\n",
    "    # https://disq.us/p/2940ij3\n",
    "    golden_ratio = (5**.5 - 1) / 2\n",
    "\n",
    "    # Figure width in inches\n",
    "    fig_width_in = fig_width_pt * inches_per_pt\n",
    "    # Figure height in inches\n",
    "    fig_height_in = fig_width_in * golden_ratio\n",
    "\n",
    "    fig_dim = (fig_width_in, fig_height_in)\n",
    "\n",
    "    return fig_dim\n",
    "\n",
    "width, height = set_size(252, fraction=1.0)\n",
    "print(f\"{width=}, {height=}\")\n",
    "\n",
    "font = 9\n",
    "\n",
    "import matplotlib.pyplot as plt\n",
    "import matplotlib.ticker as ticker\n",
    "\n",
    "plt.rcParams.update({\n",
    "    'font.size': font,\n",
    "    'figure.figsize': (width, height), \n",
    "    'figure.facecolor': 'white', \n",
    "    'savefig.dpi': 300, \n",
    "    'figure.subplot.bottom': 0.125, \n",
    "    'figure.edgecolor': 'white',\n",
    "    'xtick.labelsize': font,\n",
    "    'ytick.labelsize': font,\n",
    "    'legend.fontsize': font,\n",
    "})"
   ]
  },
  {
   "cell_type": "code",
   "execution_count": 14,
   "id": "50bf19dd-d19f-4032-976c-8ad53336e1d1",
   "metadata": {},
   "outputs": [
    {
     "data": {
      "image/png": "[encoded data removed]",
      "text/plain": [
       "<Figure size 348.692x215.504 with 1 Axes>"
      ]
     },
     "metadata": {},
     "output_type": "display_data"
    }
   ],
   "source": [
    "x = np.arange(max_evals)+1\n",
    "kappa = 1.96\n",
    "\n",
    "plt.figure()\n",
    "\n",
    "# random\n",
    "y_mean = np.mean(hv_array_random, axis=0)\n",
    "y_stde = np.std(hv_array_random, axis=0)/np.sqrt(num_rep)\n",
    "plt.plot(x, y_mean, color=\"black\", linestyle=\"--\", label=\"RDM\")\n",
    "plt.fill_between(x, y_mean - kappa*y_stde, y_mean + kappa * y_stde, color=\"black\", alpha=0.25)\n",
    "\n",
    "# y_mean = np.mean(hv_array_deephyper, axis=0)\n",
    "# y_stde = np.std(hv_array_deephyper, axis=0)/np.sqrt(num_rep)\n",
    "# plt.plot(x, y_mean, label=\"DH\")\n",
    "# plt.fill_between(x, y_mean - kappa*y_stde, y_mean + kappa * y_stde, alpha=0.25)\n",
    "\n",
    "y_mean = np.mean(hv_array_nsgaii, axis=0)\n",
    "y_stde = np.std(hv_array_nsgaii, axis=0)/np.sqrt(num_rep)\n",
    "plt.plot(x, y_mean, label=\"NSGAII\")\n",
    "plt.fill_between(x, y_mean - kappa*y_stde, y_mean + kappa * y_stde, alpha=0.25)\n",
    "\n",
    "y_mean = np.mean(hv_array_tpe, axis=0)\n",
    "y_stde = np.std(hv_array_tpe, axis=0)/np.sqrt(num_rep)\n",
    "plt.plot(x, y_mean, label=\"TPE\")\n",
    "plt.fill_between(x, y_mean - kappa*y_stde, y_mean + kappa * y_stde, alpha=0.25)\n",
    "\n",
    "\n",
    "# y_mean = np.mean(hv_array_cmaes, axis=0)\n",
    "# y_stde = np.std(hv_array_cmaes, axis=0)/np.sqrt(num_rep)\n",
    "# plt.plot(x, y_mean, label=\"CMAES\")\n",
    "# plt.fill_between(x, y_mean - kappa*y_stde, y_mean + kappa * y_stde, alpha=0.25)\n",
    "\n",
    "# plt.yscale(\"log\")\n",
    "plt.ylabel(\"HVI\")\n",
    "plt.xlabel(\"Evaluations\")\n",
    "plt.legend(fontsize=8)\n",
    "plt.tight_layout()\n",
    "plt.savefig(\"dtlzii_deephyper_vs_optuna.png\")\n",
    "plt.show()"
   ]
  },
  {
   "cell_type": "code",
   "execution_count": null,
   "id": "f74e0952-8497-4c8c-a709-e13004c1412c",
   "metadata": {},
   "outputs": [],
   "source": []
  }
 ],
 "metadata": {
  "kernelspec": {
   "display_name": "Python 3 (ipykernel)",
   "language": "python",
   "name": "python3"
  },
  "language_info": {
   "codemirror_mode": {
    "name": "ipython",
    "version": 3
   },
   "file_extension": ".py",
   "mimetype": "text/x-python",
   "name": "python",
   "nbconvert_exporter": "python",
   "pygments_lexer": "ipython3",
   "version": "3.10.8"
  }
 },
 "nbformat": 4,
 "nbformat_minor": 5
}
